{
 "cells": [
  {
   "cell_type": "code",
   "execution_count": 7,
   "metadata": {
    "collapsed": false
   },
   "outputs": [
    {
     "name": "stdout",
     "output_type": "stream",
     "text": [
      "undefined\n"
     ]
    },
    {
     "data": {
      "text/plain": [
       "'undefined'"
      ]
     },
     "execution_count": 7,
     "metadata": {},
     "output_type": "execute_result"
    }
   ],
   "source": [
    "//module 1 review\n",
    "// If a variable is declared but not initialized, the default value is undefined\n",
    "var someVariable;\n",
    "console.log(someVariable);\n",
    "typeof(someVariable)"
   ]
  },
  {
   "cell_type": "code",
   "execution_count": 6,
   "metadata": {
    "collapsed": false
   },
   "outputs": [
    {
     "name": "stdout",
     "output_type": "stream",
     "text": [
      "string\n"
     ]
    },
    {
     "data": {
      "text/plain": [
       "'34'"
      ]
     },
     "execution_count": 6,
     "metadata": {},
     "output_type": "execute_result"
    }
   ],
   "source": [
    "// Javascript will coerce number to string if we attempt to concatenate it with a string\n",
    "console.log(typeof(3+\"4\"));\n",
    "3+\"4\""
   ]
  },
  {
   "cell_type": "code",
   "execution_count": 11,
   "metadata": {
    "collapsed": false
   },
   "outputs": [
    {
     "name": "stdout",
     "output_type": "stream",
     "text": [
      "true\n",
      "false\n"
     ]
    },
    {
     "data": {
      "text/plain": [
       "true"
      ]
     },
     "execution_count": 11,
     "metadata": {},
     "output_type": "execute_result"
    }
   ],
   "source": [
    "// == is EQUIVALENT TO (checks value but not datatype)\n",
    "// === is EQUAL TO (checks both value and datatype)\n",
    "//\n",
    "// === is recommended\n",
    "var x = 1;\n",
    "console.log(x == \"1\");\n",
    "console.log(x === \"1\");\n",
    "x === 1;"
   ]
  },
  {
   "cell_type": "code",
   "execution_count": 13,
   "metadata": {
    "collapsed": false
   },
   "outputs": [
    {
     "name": "stdout",
     "output_type": "stream",
     "text": [
      "false\n"
     ]
    },
    {
     "data": {
      "text/plain": [
       "true"
      ]
     },
     "execution_count": 13,
     "metadata": {},
     "output_type": "execute_result"
    }
   ],
   "source": [
    "// != is NOT EQUIVALENT\n",
    "// !== is NOT EQUAL TO\n",
    "var y = 3;\n",
    "console.log(y != \"3\")\n",
    "y !== \"3\""
   ]
  },
  {
   "cell_type": "code",
   "execution_count": 21,
   "metadata": {
    "collapsed": false
   },
   "outputs": [
    {
     "name": "stdout",
     "output_type": "stream",
     "text": [
      "is not one or character three\n"
     ]
    },
    {
     "data": {
      "text/plain": [
       "undefined"
      ]
     },
     "execution_count": 21,
     "metadata": {},
     "output_type": "execute_result"
    }
   ],
   "source": [
    "// As an alternative to IF, ELSE IF, ELSE\n",
    "// SWITCH is also available\n",
    "\n",
    "var x = 3;\n",
    "\n",
    "switch (x) {\n",
    "    case 1:\n",
    "        console.log(\"is one\");\n",
    "        break;\n",
    "    case \"3\": // switch uses ===\n",
    "        console.log(\"is character three\");\n",
    "        break; //don't forget \n",
    "    default:\n",
    "        console.log(\"is not one or character three\");\n",
    "}\n"
   ]
  },
  {
   "cell_type": "code",
   "execution_count": 22,
   "metadata": {
    "collapsed": false
   },
   "outputs": [
    {
     "name": "stdout",
     "output_type": "stream",
     "text": [
      "y is not equal to 77\n"
     ]
    },
    {
     "data": {
      "text/plain": [
       "undefined"
      ]
     },
     "execution_count": 22,
     "metadata": {},
     "output_type": "execute_result"
    }
   ],
   "source": [
    "// A hacky way to check for boolean operations other than === is like this:\n",
    "//   switch (true) {...}\n",
    "// (might as well use IF ELSE here)\n",
    "var y = 55;\n",
    "\n",
    "switch (true) {\n",
    "    case (y === 5):\n",
    "        console.log(\"y equals to 5\");\n",
    "        break;\n",
    "    case (y !== 77):\n",
    "        console.log(\"y is not equal to 77\");\n",
    "        break;\n",
    "    default:\n",
    "        console.log(\"y does not equal to 5 and y is not 77\");\n",
    "}\n"
   ]
  },
  {
   "cell_type": "code",
   "execution_count": 24,
   "metadata": {
    "collapsed": false
   },
   "outputs": [
    {
     "name": "stdout",
     "output_type": "stream",
     "text": [
      "5\n",
      "4\n",
      "3\n"
     ]
    },
    {
     "data": {
      "text/plain": [
       "undefined"
      ]
     },
     "execution_count": 24,
     "metadata": {},
     "output_type": "execute_result"
    }
   ],
   "source": [
    "// WHILE loops can be terminated using BREAK\n",
    "\n",
    "var y = 6;\n",
    "while (y > 0) {\n",
    "    y-=1; //decrement by 1\n",
    "    console.log(y);\n",
    "    if (y === 3) {\n",
    "        break;\n",
    "    }\n",
    "}"
   ]
  },
  {
   "cell_type": "code",
   "execution_count": 31,
   "metadata": {
    "collapsed": false
   },
   "outputs": [
    {
     "data": {
      "text/plain": [
       "5"
      ]
     },
     "execution_count": 31,
     "metadata": {},
     "output_type": "execute_result"
    }
   ],
   "source": [
    "// DO WHILE is like WHILE, but it is guaranteed to run at least once\n",
    "var x = 5;\n",
    "do {\n",
    "    x;\n",
    "    //console.log(x);\n",
    "} while (x !==5)"
   ]
  },
  {
   "cell_type": "code",
   "execution_count": 33,
   "metadata": {
    "collapsed": false
   },
   "outputs": [
    {
     "name": "stdout",
     "output_type": "stream",
     "text": [
      "1\n",
      "2\n",
      "3\n",
      "4\n",
      "5\n",
      "6\n",
      "7\n",
      "8\n",
      "9\n",
      "10\n"
     ]
    },
    {
     "data": {
      "text/plain": [
       "undefined"
      ]
     },
     "execution_count": 33,
     "metadata": {},
     "output_type": "execute_result"
    }
   ],
   "source": [
    "// LAB: count to 10 using for loop\n",
    "\n",
    "var i = 1;\n",
    "for (i; i < 11; i++) {\n",
    "    console.log(i);\n",
    "}"
   ]
  },
  {
   "cell_type": "code",
   "execution_count": 28,
   "metadata": {
    "collapsed": false
   },
   "outputs": [
    {
     "name": "stdout",
     "output_type": "stream",
     "text": [
      "1\n",
      "2\n",
      "3\n",
      "4\n",
      "5\n",
      "6\n",
      "7\n",
      "8\n",
      "9\n",
      "10\n"
     ]
    },
    {
     "data": {
      "text/plain": [
       "11"
      ]
     },
     "execution_count": 28,
     "metadata": {},
     "output_type": "execute_result"
    }
   ],
   "source": [
    "// LAB: count to 10 using while loop\n",
    "var i = 1;\n",
    "while (i < 11) {\n",
    "   console.log(i);\n",
    "   i+=1;\n",
    "}"
   ]
  },
  {
   "cell_type": "code",
   "execution_count": 30,
   "metadata": {
    "collapsed": false
   },
   "outputs": [
    {
     "name": "stdout",
     "output_type": "stream",
     "text": [
      "1\n",
      "2\n",
      "3\n",
      "4\n",
      "5\n",
      "6\n",
      "7\n",
      "8\n",
      "9\n",
      "10\n"
     ]
    },
    {
     "data": {
      "text/plain": [
       "11"
      ]
     },
     "execution_count": 30,
     "metadata": {},
     "output_type": "execute_result"
    }
   ],
   "source": [
    "// LAB: count to 10 using do while loop\n",
    "var i = 1;\n",
    "do {\n",
    "    console.log(i);\n",
    "    i+=1;\n",
    "} while (i < 11);\n",
    "\n"
   ]
  },
  {
   "cell_type": "code",
   "execution_count": 39,
   "metadata": {
    "collapsed": false
   },
   "outputs": [
    {
     "name": "stdout",
     "output_type": "stream",
     "text": [
      "3 bottles of beer on the wall,\n",
      "3 bottles of beer,\n",
      "Take one down, pass it around,\n",
      "2 bottles of beer on the wall.\n",
      "2 bottles of beer on the wall,\n",
      "2 bottles of beer,\n",
      "Take one down, pass it around,\n",
      "1 bottles of beer on the wall.\n",
      "1 bottles of beer on the wall,\n",
      "1 bottles of beer,\n",
      "Take one down, pass it around,\n",
      "0 bottles of beer on the wall.\n"
     ]
    },
    {
     "data": {
      "text/plain": [
       "undefined"
      ]
     },
     "execution_count": 39,
     "metadata": {},
     "output_type": "execute_result"
    }
   ],
   "source": [
    "// Lab: complete the following\n",
    "var count = 3;\n",
    "var word = \"bottles\";\n",
    "while (count > 0) {\n",
    "    console.log(count + \" \" + word + \" of beer on the wall,\");\n",
    "    console.log(count + \" \" + word + \" of beer,\");\n",
    "    console.log(\"Take one down, pass it around,\");\n",
    "    count-=1;\n",
    "    console.log(count + \" \" + word + \" of beer on the wall.\");\n",
    "}"
   ]
  },
  {
   "cell_type": "code",
   "execution_count": null,
   "metadata": {
    "collapsed": true
   },
   "outputs": [],
   "source": []
  }
 ],
 "metadata": {
  "kernelspec": {
   "display_name": "Javascript (Node.js)",
   "language": "javascript",
   "name": "javascript"
  },
  "language_info": {
   "file_extension": ".js",
   "mimetype": "application/javascript",
   "name": "javascript",
   "version": "6.11.4"
  }
 },
 "nbformat": 4,
 "nbformat_minor": 0
}
