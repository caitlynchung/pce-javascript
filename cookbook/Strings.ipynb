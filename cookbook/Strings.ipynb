{
 "cells": [
  {
   "cell_type": "markdown",
   "metadata": {},
   "source": [
    "string.split, string.join and array.constructor"
   ]
  },
  {
   "cell_type": "code",
   "execution_count": 32,
   "metadata": {
    "collapsed": false
   },
   "outputs": [
    {
     "name": "stdout",
     "output_type": "stream",
     "text": [
      "string\n",
      "[Function: Array]\n",
      "[ 'Today', 'is', 'Sunday,', 'October', '15th.' ]\n",
      "Today\n",
      "is\n",
      "Sunday,\n",
      "October\n",
      "15th.\n",
      "[ 'is' ]\n"
     ]
    },
    {
     "data": {
      "text/plain": [
       "'Today is Sunday, October 15th.'"
      ]
     },
     "execution_count": 32,
     "metadata": {},
     "output_type": "execute_result"
    }
   ],
   "source": [
    "//Using prompt(promptString, defaultString) will store the result in an string\n",
    "var inputString = \"Today is Sunday, October 15th.\";\n",
    "console.log(typeof(inputString));\n",
    "\n",
    "// If we parse by ' ' (space), each element is stored in an array (object)\n",
    "inputString = inputString.split(' ');\n",
    "console.log(inputString.constructor);\n",
    "console.log(inputString)\n",
    "\n",
    "// For an array, you can reference each element via index\n",
    "for (i=0; i < inputString.length; i++) { //note that .length is not called .length()\n",
    "    console.log(inputString[i]);\n",
    "}\n",
    "\n",
    "// slice works on arrays too, not just strings (samples below for strings)\n",
    "console.log(inputString.slice(1,2)) //second element\n",
    "\n",
    "// The reverse of 'split' is 'join' which also takes a parameter (like sep in R)\n",
    "inputString.join(\" \");"
   ]
  },
  {
   "cell_type": "markdown",
   "metadata": {},
   "source": [
    "string.slice(start, end -1)"
   ]
  },
  {
   "cell_type": "code",
   "execution_count": 28,
   "metadata": {
    "collapsed": false
   },
   "outputs": [
    {
     "name": "stdout",
     "output_type": "stream",
     "text": [
      "w\n",
      "atermelon\n",
      "melon\n",
      "lon\n"
     ]
    },
    {
     "data": {
      "text/plain": [
       "'lo'"
      ]
     },
     "execution_count": 28,
     "metadata": {},
     "output_type": "execute_result"
    }
   ],
   "source": [
    "//Within each string, you can use slice to get parts of the string\n",
    "// string.slice(start index, end index - 1)\n",
    "// note the index starts at 0\n",
    "console.log(\"watermelon\".slice(0,1));\n",
    "// if you leave off the second parameter, it just goes to the end of the string\n",
    "console.log(\"watermelon\".slice(1));\n",
    "\n",
    "console.log(\"watermelon\".slice(5, 10));\n",
    "// use negative index to start at the end\n",
    "console.log(\"watermelon\".slice(-3));\n",
    "\"watermelon\".slice(-3,-1);"
   ]
  },
  {
   "cell_type": "code",
   "execution_count": 14,
   "metadata": {
    "collapsed": false
   },
   "outputs": [
    {
     "data": {
      "text/plain": [
       "'WATERMELON'"
      ]
     },
     "execution_count": 14,
     "metadata": {},
     "output_type": "execute_result"
    }
   ],
   "source": [
    "// Use can use string.toUpperCase() to convert to uppercase\n",
    "\"watermelon\".toUpperCase()"
   ]
  },
  {
   "cell_type": "code",
   "execution_count": 18,
   "metadata": {
    "collapsed": false
   },
   "outputs": [
    {
     "data": {
      "text/plain": [
       "'Banana'"
      ]
     },
     "execution_count": 18,
     "metadata": {},
     "output_type": "execute_result"
    }
   ],
   "source": [
    "// Combine the two above to convert just the first letter to uppercase\n",
    "var inputString = \"banana\"\n",
    "inputString.slice(0,1).toUpperCase() + inputString.slice(1);"
   ]
  },
  {
   "cell_type": "code",
   "execution_count": 23,
   "metadata": {
    "collapsed": false
   },
   "outputs": [
    {
     "name": "stdout",
     "output_type": "stream",
     "text": [
      "Banana\n"
     ]
    },
    {
     "data": {
      "text/plain": [
       "'b'"
      ]
     },
     "execution_count": 23,
     "metadata": {},
     "output_type": "execute_result"
    }
   ],
   "source": [
    "// There is also string.charAt(index) to get the character at an index\n",
    "console.log(\"banana\".charAt(0).toUpperCase() + \"banana\".slice(1));\n",
    "\"banana\".charAt(0);"
   ]
  },
  {
   "cell_type": "code",
   "execution_count": 3,
   "metadata": {
    "collapsed": false
   },
   "outputs": [
    {
     "data": {
      "text/plain": [
       "'bottle'"
      ]
     },
     "execution_count": 3,
     "metadata": {},
     "output_type": "execute_result"
    }
   ],
   "source": [
    "var word = \"bottles\";\n",
    "//word.slice(-1); //s\n",
    "word.slice(0,word.length-1);"
   ]
  },
  {
   "cell_type": "code",
   "execution_count": 5,
   "metadata": {
    "collapsed": false
   },
   "outputs": [
    {
     "data": {
      "text/plain": [
       "3"
      ]
     },
     "execution_count": 5,
     "metadata": {},
     "output_type": "execute_result"
    }
   ],
   "source": [
    "// indexOf(character) returns the index of first occurrence of character\n",
    "var word = \"joe@gmail.com\";\n",
    "word.indexOf(\"@\");"
   ]
  },
  {
   "cell_type": "code",
   "execution_count": 7,
   "metadata": {
    "collapsed": false
   },
   "outputs": [
    {
     "data": {
      "text/plain": [
       "-1"
      ]
     },
     "execution_count": 7,
     "metadata": {},
     "output_type": "execute_result"
    }
   ],
   "source": [
    "// if there is no occurrence, it returns -1\n",
    "var word = \"joe!gmail.com\";\n",
    "word.indexOf(\"@\");"
   ]
  },
  {
   "cell_type": "code",
   "execution_count": 10,
   "metadata": {
    "collapsed": false
   },
   "outputs": [
    {
     "name": "stdout",
     "output_type": "stream",
     "text": [
      "h\n",
      "hello there\n",
      "hello there\n",
      "ello there\n"
     ]
    },
    {
     "data": {
      "text/plain": [
       "undefined"
      ]
     },
     "execution_count": 10,
     "metadata": {},
     "output_type": "execute_result"
    }
   ],
   "source": [
    "// substring(start index, <opt> end index -1) grabs parts of a string\n",
    "var testWord = \"hello there\";\n",
    "console.log(testWord.substring(0,1));\n",
    "console.log(testWord.substring(0));\n",
    "console.log(testWord.substring(-1));\n",
    "console.log(testWord.substring(1));"
   ]
  },
  {
   "cell_type": "markdown",
   "metadata": {},
   "source": [
    "SLICE vs SUBSTRING\n",
    "\n",
    "What they have in common:\n",
    "\n",
    "If start equals stop: returns an empty string\n",
    "If stop is omitted: extracts characters to the end of the string\n",
    "If either argument is greater than the string's length, the string's length will be used instead.\n",
    "\n",
    "Distinctions of substring():\n",
    "\n",
    "If start > stop, then substring will swap those 2 arguments.\n",
    "If either argument is negative or is NaN, it is treated as if it were 0.\n",
    "\n",
    "Distinctions of slice():\n",
    "\n",
    "If start > stop, slice() will NOT swap the 2 arguments.\n",
    "If start is negative: sets char from the end of string, exactly like substr() in Firefox. This behavior is observed in both Firefox and IE.\n",
    "If stop is negative: sets stop to: string.length – Math.abs(stop) (original value)."
   ]
  },
  {
   "cell_type": "code",
   "execution_count": 13,
   "metadata": {
    "collapsed": false
   },
   "outputs": [
    {
     "name": "stdout",
     "output_type": "stream",
     "text": [
      "number\n"
     ]
    },
    {
     "data": {
      "text/plain": [
       "4"
      ]
     },
     "execution_count": 13,
     "metadata": {},
     "output_type": "execute_result"
    }
   ],
   "source": [
    "// NUMBER will convert a string to its numeric equivalent\n",
    "var testVal = \"4\";\n",
    "console.log(typeof(Number(testVal)));\n",
    "Number(testVal);"
   ]
  },
  {
   "cell_type": "code",
   "execution_count": 14,
   "metadata": {
    "collapsed": false
   },
   "outputs": [
    {
     "data": {
      "text/plain": [
       "'There is no \"i\" in team'"
      ]
     },
     "execution_count": 14,
     "metadata": {},
     "output_type": "execute_result"
    }
   ],
   "source": [
    "// Use '\\' to escape\n",
    "var words = \"There is no \\\"i\\\" in team\";\n",
    "words;"
   ]
  },
  {
   "cell_type": "code",
   "execution_count": 18,
   "metadata": {
    "collapsed": false
   },
   "outputs": [
    {
     "data": {
      "text/plain": [
       "undefined"
      ]
     },
     "execution_count": 18,
     "metadata": {},
     "output_type": "execute_result"
    }
   ],
   "source": [
    "/* This is more interesting \n",
    "\n",
    "var interestLevel = 10;\n",
    "\n",
    "*/"
   ]
  },
  {
   "cell_type": "code",
   "execution_count": null,
   "metadata": {
    "collapsed": true
   },
   "outputs": [],
   "source": []
  }
 ],
 "metadata": {
  "kernelspec": {
   "display_name": "Javascript (Node.js)",
   "language": "javascript",
   "name": "javascript"
  },
  "language_info": {
   "file_extension": ".js",
   "mimetype": "application/javascript",
   "name": "javascript",
   "version": "6.11.4"
  }
 },
 "nbformat": 4,
 "nbformat_minor": 0
}
