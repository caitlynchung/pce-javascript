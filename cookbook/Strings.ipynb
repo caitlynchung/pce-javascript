{
 "cells": [
  {
   "cell_type": "markdown",
   "metadata": {},
   "source": [
    "string.split, string.join and array.constructor"
   ]
  },
  {
   "cell_type": "code",
   "execution_count": 32,
   "metadata": {
    "collapsed": false
   },
   "outputs": [
    {
     "name": "stdout",
     "output_type": "stream",
     "text": [
      "string\n",
      "[Function: Array]\n",
      "[ 'Today', 'is', 'Sunday,', 'October', '15th.' ]\n",
      "Today\n",
      "is\n",
      "Sunday,\n",
      "October\n",
      "15th.\n",
      "[ 'is' ]\n"
     ]
    },
    {
     "data": {
      "text/plain": [
       "'Today is Sunday, October 15th.'"
      ]
     },
     "execution_count": 32,
     "metadata": {},
     "output_type": "execute_result"
    }
   ],
   "source": [
    "//Using prompt(promptString, defaultString) will store the result in an string\n",
    "var inputString = \"Today is Sunday, October 15th.\";\n",
    "console.log(typeof(inputString));\n",
    "\n",
    "// If we parse by ' ' (space), each element is stored in an array (object)\n",
    "inputString = inputString.split(' ');\n",
    "console.log(inputString.constructor);\n",
    "console.log(inputString)\n",
    "\n",
    "// For an array, you can reference each element via index\n",
    "for (i=0; i < inputString.length; i++) { //note that .length is not called .length()\n",
    "    console.log(inputString[i]);\n",
    "}\n",
    "\n",
    "// slice works on arrays too, not just strings (samples below for strings)\n",
    "console.log(inputString.slice(1,2)) //second element\n",
    "\n",
    "// The reverse of 'split' is 'join' which also takes a parameter (like sep in R)\n",
    "inputString.join(\" \");"
   ]
  },
  {
   "cell_type": "markdown",
   "metadata": {},
   "source": [
    "string.slice(start, end -1)"
   ]
  },
  {
   "cell_type": "code",
   "execution_count": 28,
   "metadata": {
    "collapsed": false
   },
   "outputs": [
    {
     "name": "stdout",
     "output_type": "stream",
     "text": [
      "w\n",
      "atermelon\n",
      "melon\n",
      "lon\n"
     ]
    },
    {
     "data": {
      "text/plain": [
       "'lo'"
      ]
     },
     "execution_count": 28,
     "metadata": {},
     "output_type": "execute_result"
    }
   ],
   "source": [
    "//Within each string, you can use slice to get parts of the string\n",
    "// string.slice(start index, end index - 1)\n",
    "// note the index starts at 0\n",
    "console.log(\"watermelon\".slice(0,1));\n",
    "// if you leave off the second parameter, it just goes to the end of the string\n",
    "console.log(\"watermelon\".slice(1));\n",
    "\n",
    "console.log(\"watermelon\".slice(5, 10));\n",
    "// use negative index to start at the end\n",
    "console.log(\"watermelon\".slice(-3));\n",
    "\"watermelon\".slice(-3,-1);"
   ]
  },
  {
   "cell_type": "code",
   "execution_count": 14,
   "metadata": {
    "collapsed": false
   },
   "outputs": [
    {
     "data": {
      "text/plain": [
       "'WATERMELON'"
      ]
     },
     "execution_count": 14,
     "metadata": {},
     "output_type": "execute_result"
    }
   ],
   "source": [
    "// Use can use string.toUpperCase() to convert to uppercase\n",
    "\"watermelon\".toUpperCase()"
   ]
  },
  {
   "cell_type": "code",
   "execution_count": 18,
   "metadata": {
    "collapsed": false
   },
   "outputs": [
    {
     "data": {
      "text/plain": [
       "'Banana'"
      ]
     },
     "execution_count": 18,
     "metadata": {},
     "output_type": "execute_result"
    }
   ],
   "source": [
    "// Combine the two above to convert just the first letter to uppercase\n",
    "var inputString = \"banana\"\n",
    "inputString.slice(0,1).toUpperCase() + inputString.slice(1);"
   ]
  },
  {
   "cell_type": "code",
   "execution_count": 23,
   "metadata": {
    "collapsed": false
   },
   "outputs": [
    {
     "name": "stdout",
     "output_type": "stream",
     "text": [
      "Banana\n"
     ]
    },
    {
     "data": {
      "text/plain": [
       "'b'"
      ]
     },
     "execution_count": 23,
     "metadata": {},
     "output_type": "execute_result"
    }
   ],
   "source": [
    "// There is also string.charAt(index) to get the character at an index\n",
    "console.log(\"banana\".charAt(0).toUpperCase() + \"banana\".slice(1));\n",
    "\"banana\".charAt(0);"
   ]
  },
  {
   "cell_type": "code",
   "execution_count": null,
   "metadata": {
    "collapsed": true
   },
   "outputs": [],
   "source": []
  }
 ],
 "metadata": {
  "kernelspec": {
   "display_name": "Javascript (Node.js)",
   "language": "javascript",
   "name": "javascript"
  },
  "language_info": {
   "file_extension": ".js",
   "mimetype": "application/javascript",
   "name": "javascript",
   "version": "6.11.4"
  }
 },
 "nbformat": 4,
 "nbformat_minor": 0
}
